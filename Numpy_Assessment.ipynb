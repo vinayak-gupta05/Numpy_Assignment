{
  "nbformat": 4,
  "nbformat_minor": 0,
  "metadata": {
    "colab": {
      "provenance": []
    },
    "kernelspec": {
      "name": "python3",
      "display_name": "Python 3"
    },
    "language_info": {
      "name": "python"
    }
  },
  "cells": [
    {
      "cell_type": "code",
      "execution_count": 2,
      "metadata": {
        "id": "TbBpZvq5NpzN"
      },
      "outputs": [],
      "source": [
        "import numpy as np\n",
        "import pandas as pd"
      ]
    },
    {
      "cell_type": "code",
      "source": [
        "# Q1) Create a NumPy array 'arr' of integers from 0 to 5 and print its data type.\n",
        "\n",
        "arr = np.arange(0,5)\n",
        "print(arr, type(arr))"
      ],
      "metadata": {
        "colab": {
          "base_uri": "https://localhost:8080/"
        },
        "id": "xYBKj5_yNsjg",
        "outputId": "ec92e2ce-e9cc-4c1d-d5a9-fc6d0d332ac0"
      },
      "execution_count": null,
      "outputs": [
        {
          "output_type": "stream",
          "name": "stdout",
          "text": [
            "[0 1 2 3 4] <class 'numpy.ndarray'>\n"
          ]
        }
      ]
    },
    {
      "cell_type": "code",
      "source": [
        "# Q2) Given a Numpy 'arr', check if its data type is float64.\n",
        "\n",
        "arr = np.array([1.5, 2.6, 3.7])\n",
        "\n",
        "print(arr.dtype == np.float64)"
      ],
      "metadata": {
        "colab": {
          "base_uri": "https://localhost:8080/"
        },
        "id": "3N4jpy5iON9C",
        "outputId": "8356719c-3099-405d-f430-1de588a93df0"
      },
      "execution_count": null,
      "outputs": [
        {
          "output_type": "stream",
          "name": "stdout",
          "text": [
            "True\n"
          ]
        }
      ]
    },
    {
      "cell_type": "code",
      "source": [
        "# Q3) Create a NumPy array 'arr' with a data type of complex128 containing three complex numbers.\n",
        "\n",
        "arr = np.array([1+1j, 2+2j, 3+3j])\n",
        "print(arr)"
      ],
      "metadata": {
        "colab": {
          "base_uri": "https://localhost:8080/"
        },
        "id": "mze-UtggO4Qz",
        "outputId": "8414c78b-30ba-405a-c5a4-de4599403e69"
      },
      "execution_count": null,
      "outputs": [
        {
          "output_type": "stream",
          "name": "stdout",
          "text": [
            "[1.+1.j 2.+2.j 3.+3.j]\n"
          ]
        }
      ]
    },
    {
      "cell_type": "code",
      "source": [
        "# Q4) Convert an existing NumPy array 'arr' of integers to float32 data type.\n",
        "\n",
        "arr = np.array([1, 2, 3, 4, 5])\n",
        "arr_float32 = arr.astype(np.float32)\n",
        "print(arr_float32)\n"
      ],
      "metadata": {
        "colab": {
          "base_uri": "https://localhost:8080/"
        },
        "id": "Dsrklh88Pvrr",
        "outputId": "d8895251-10ce-4305-d513-f1156d4b7507"
      },
      "execution_count": null,
      "outputs": [
        {
          "output_type": "stream",
          "name": "stdout",
          "text": [
            "[1. 2. 3. 4. 5.]\n"
          ]
        }
      ]
    },
    {
      "cell_type": "code",
      "source": [
        "# Q5) Given a NumPy array 'arr' with float64 data type, convert it to float32 to reduce decimal precision.\n",
        "\n",
        "arr = np.array([1.11, 2.22, 3.33, 4.44])\n",
        "arr_float32 = arr.astype(np.float32)\n",
        "print(arr_float32)"
      ],
      "metadata": {
        "colab": {
          "base_uri": "https://localhost:8080/"
        },
        "id": "Dy_oizpxRtqn",
        "outputId": "ba0fe97e-3fdb-43fc-b756-e853d661104a"
      },
      "execution_count": null,
      "outputs": [
        {
          "output_type": "stream",
          "name": "stdout",
          "text": [
            "[1.11 2.22 3.33 4.44]\n"
          ]
        }
      ]
    },
    {
      "cell_type": "code",
      "source": [
        "# Q6) Write a function array_attributes that takes a NumPy array as input and returns its shape, size, and data type.\n",
        "\n",
        "def array_attributes(array):\n",
        "    print(f\"Shape: {array.shape}\")\n",
        "    print(f\"Size: {array.size}\")\n",
        "    print(f\"Data Type: {array.dtype}\")"
      ],
      "metadata": {
        "id": "hHXaHafzTWFh"
      },
      "execution_count": null,
      "outputs": []
    },
    {
      "cell_type": "code",
      "source": [
        "array_attributes(arr)"
      ],
      "metadata": {
        "colab": {
          "base_uri": "https://localhost:8080/"
        },
        "id": "FhFShmwZTcsq",
        "outputId": "ea40774d-ddb4-4421-f3b8-a8985ba2980a"
      },
      "execution_count": null,
      "outputs": [
        {
          "output_type": "stream",
          "name": "stdout",
          "text": [
            "Shape: (4,)\n",
            "Size: 4\n",
            "Data Type: float64\n"
          ]
        }
      ]
    },
    {
      "cell_type": "code",
      "source": [
        "# Q7) Create a function array_dimension that takes a NumPy array as input and returns its dimensionality.\n",
        "\n",
        "def array_dimension(array):\n",
        "    print(f\"Dimensionality: {array.ndim}\")"
      ],
      "metadata": {
        "id": "1JXNslowU7vi"
      },
      "execution_count": null,
      "outputs": []
    },
    {
      "cell_type": "code",
      "source": [
        "array_dimension(arr)"
      ],
      "metadata": {
        "colab": {
          "base_uri": "https://localhost:8080/"
        },
        "id": "zxHVum4V-lIj",
        "outputId": "954f0351-6d0c-4eeb-82af-35cec39c966d"
      },
      "execution_count": null,
      "outputs": [
        {
          "output_type": "stream",
          "name": "stdout",
          "text": [
            "Dimensionality: 1\n"
          ]
        }
      ]
    },
    {
      "cell_type": "code",
      "source": [
        "# Q8) Design a function item_size_info that takes a NumPy array as input and returns the item size and the total size in bytes.\n",
        "\n",
        "def item_size_info(array):\n",
        "    print(f\"Item Size: {array.itemsize}\")\n",
        "    print(f\"Total Size: {array.nbytes}\")"
      ],
      "metadata": {
        "id": "bafJxJUR-nTc"
      },
      "execution_count": null,
      "outputs": []
    },
    {
      "cell_type": "code",
      "source": [
        "item_size_info(arr)"
      ],
      "metadata": {
        "colab": {
          "base_uri": "https://localhost:8080/"
        },
        "id": "u50nQ2mU_VNq",
        "outputId": "9e7d7339-6590-42b4-9529-8d7e4a8e824d"
      },
      "execution_count": null,
      "outputs": [
        {
          "output_type": "stream",
          "name": "stdout",
          "text": [
            "Item Size: 8\n",
            "Total Size: 32\n"
          ]
        }
      ]
    },
    {
      "cell_type": "code",
      "source": [
        "# Q9) Create a function array_strides that takes a NumPy array as input and returns the strides of the array.\n",
        "\n",
        "def array_strides(array):\n",
        "    print(f\"Strides: {array.strides}\")"
      ],
      "metadata": {
        "id": "r5g6mxgb_YEL"
      },
      "execution_count": null,
      "outputs": []
    },
    {
      "cell_type": "code",
      "source": [
        "array_strides(arr)"
      ],
      "metadata": {
        "colab": {
          "base_uri": "https://localhost:8080/"
        },
        "id": "OxA_7oSk_jnG",
        "outputId": "032c45f4-80e9-45a8-8120-b1c7973108e6"
      },
      "execution_count": null,
      "outputs": [
        {
          "output_type": "stream",
          "name": "stdout",
          "text": [
            "Strides: (8,)\n"
          ]
        }
      ]
    },
    {
      "cell_type": "code",
      "source": [
        "# Q10) Design a function shape_stride_relationship that takes a NumPy array as input and returns the shape and strides of the array.\n",
        "\n",
        "def shape_stride_relationship(array):\n",
        "    print(f\"Shape: {array.shape}\")\n",
        "    print(f\"Strides: {array.strides}\")"
      ],
      "metadata": {
        "id": "HAJOF83U_n6B"
      },
      "execution_count": null,
      "outputs": []
    },
    {
      "cell_type": "code",
      "source": [
        "shape_stride_relationship(arr)"
      ],
      "metadata": {
        "colab": {
          "base_uri": "https://localhost:8080/"
        },
        "id": "IMZekGfYADrE",
        "outputId": "c77d2a0f-ce27-480b-dfb0-90365db9044a"
      },
      "execution_count": null,
      "outputs": [
        {
          "output_type": "stream",
          "name": "stdout",
          "text": [
            "Shape: (4,)\n",
            "Strides: (8,)\n"
          ]
        }
      ]
    },
    {
      "cell_type": "code",
      "source": [
        "# Q11) Create a function `create_zeros_array` that takes an integer `n` as input and returns a NumPy array of zeros with `n` elements.\n",
        "\n",
        "def create_zeros_array(n):\n",
        "    return np.zeros(n)"
      ],
      "metadata": {
        "id": "zWCIlV8IAG6x"
      },
      "execution_count": null,
      "outputs": []
    },
    {
      "cell_type": "code",
      "source": [
        "create_zeros_array(5)"
      ],
      "metadata": {
        "colab": {
          "base_uri": "https://localhost:8080/"
        },
        "id": "MSe5hg1zAXuM",
        "outputId": "e4d8c68d-25f2-42ff-c2c5-d579da9debba"
      },
      "execution_count": null,
      "outputs": [
        {
          "output_type": "execute_result",
          "data": {
            "text/plain": [
              "array([0., 0., 0., 0., 0.])"
            ]
          },
          "metadata": {},
          "execution_count": 28
        }
      ]
    },
    {
      "cell_type": "code",
      "source": [
        "# Q12) Write a function `create_ones_matrix` that takes integers `rows` and `cols` as inputs and generates a 2D NumPy array filled with ones of size `rows x cols`\n",
        "\n",
        "def create_ones_matrix(rows, cols):\n",
        "    return np.ones((rows, cols))"
      ],
      "metadata": {
        "id": "6JKekNzfAaIt"
      },
      "execution_count": null,
      "outputs": []
    },
    {
      "cell_type": "code",
      "source": [
        "create_ones_matrix(3, 4)"
      ],
      "metadata": {
        "colab": {
          "base_uri": "https://localhost:8080/"
        },
        "id": "RH1YEDv7AwqM",
        "outputId": "6cc70f1d-65d2-4c88-abae-fa0eaa3d4c1a"
      },
      "execution_count": null,
      "outputs": [
        {
          "output_type": "execute_result",
          "data": {
            "text/plain": [
              "array([[1., 1., 1., 1.],\n",
              "       [1., 1., 1., 1.],\n",
              "       [1., 1., 1., 1.]])"
            ]
          },
          "metadata": {},
          "execution_count": 30
        }
      ]
    },
    {
      "cell_type": "code",
      "source": [
        "''' Q13)  Write a function `generate_range_array` that takes three integers start, stop, and step as arguments and\n",
        "creates a NumPy array with a range starting from `start`, ending at stop (exclusive), and with the specified\n",
        "`step`. '''\n",
        "\n",
        "def generate_range_array(start, stop, step):\n",
        "    return np.arange(start, stop, step)"
      ],
      "metadata": {
        "id": "aokzWRXHA0yz"
      },
      "execution_count": null,
      "outputs": []
    },
    {
      "cell_type": "code",
      "source": [
        "generate_range_array(0, 10, 2)"
      ],
      "metadata": {
        "colab": {
          "base_uri": "https://localhost:8080/"
        },
        "id": "yo59QK8OA_bo",
        "outputId": "15747661-c4d3-477e-f333-8d1510375fb4"
      },
      "execution_count": null,
      "outputs": [
        {
          "output_type": "execute_result",
          "data": {
            "text/plain": [
              "array([0, 2, 4, 6, 8])"
            ]
          },
          "metadata": {},
          "execution_count": 33
        }
      ]
    },
    {
      "cell_type": "code",
      "source": [
        "''' Q14) Design a function `generate_linear_space` that takes two floats `start`, `stop`, and an integer `num` as\n",
        "arguments and generates a NumPy array with num equally spaced values between `start` and `stop`\n",
        "(inclusive).'''\n",
        "\n",
        "def generate_linear_space(start, stop, num):\n",
        "    return np.linspace(start, stop, num)"
      ],
      "metadata": {
        "id": "I-cdTzdDBOD9"
      },
      "execution_count": null,
      "outputs": []
    },
    {
      "cell_type": "code",
      "source": [
        "generate_linear_space(0, 10, 2)"
      ],
      "metadata": {
        "colab": {
          "base_uri": "https://localhost:8080/"
        },
        "id": "fJ7Chs_OBUZB",
        "outputId": "0ed51813-6a3b-49d0-9d28-7f3ecc0fb33d"
      },
      "execution_count": null,
      "outputs": [
        {
          "output_type": "execute_result",
          "data": {
            "text/plain": [
              "array([ 0., 10.])"
            ]
          },
          "metadata": {},
          "execution_count": 36
        }
      ]
    },
    {
      "cell_type": "code",
      "source": [
        "# Q15)  Create a function `create_identity_matrix` that takes an integer `n` as input and generates a square identity matrix of size `n x n` using `numpy.eye`.\n",
        "\n",
        "def create_identity_matrix(n):\n",
        "    return np.eye(n)"
      ],
      "metadata": {
        "id": "Zc_ZrJZEByDM"
      },
      "execution_count": null,
      "outputs": []
    },
    {
      "cell_type": "code",
      "source": [
        "create_identity_matrix(5)"
      ],
      "metadata": {
        "colab": {
          "base_uri": "https://localhost:8080/"
        },
        "id": "wA_0FD03CBBd",
        "outputId": "407419e5-816c-4d3c-d358-50fa483885c8"
      },
      "execution_count": null,
      "outputs": [
        {
          "output_type": "execute_result",
          "data": {
            "text/plain": [
              "array([[1., 0., 0., 0., 0.],\n",
              "       [0., 1., 0., 0., 0.],\n",
              "       [0., 0., 1., 0., 0.],\n",
              "       [0., 0., 0., 1., 0.],\n",
              "       [0., 0., 0., 0., 1.]])"
            ]
          },
          "metadata": {},
          "execution_count": 40
        }
      ]
    },
    {
      "cell_type": "code",
      "source": [
        "# Q16) Write a function that takes a Python list and converts it into a NumPy array.\n",
        "\n",
        "list1 = [1, 2, 3, 4, 5]\n",
        "def create_array_from_list(list):\n",
        "    return np.array(list)"
      ],
      "metadata": {
        "id": "z-N9i4zcCTsO"
      },
      "execution_count": null,
      "outputs": []
    },
    {
      "cell_type": "code",
      "source": [
        "create_array_from_list(list1)"
      ],
      "metadata": {
        "colab": {
          "base_uri": "https://localhost:8080/"
        },
        "id": "bfknYQUzCqnM",
        "outputId": "b2a51104-e900-4fe7-d00e-f60f16c4efcf"
      },
      "execution_count": null,
      "outputs": [
        {
          "output_type": "execute_result",
          "data": {
            "text/plain": [
              "array([1, 2, 3, 4, 5])"
            ]
          },
          "metadata": {},
          "execution_count": 43
        }
      ]
    },
    {
      "cell_type": "code",
      "source": [
        "# Q17) Create a NumPy array and demonstrate the use of `numpy.view` to create a new array object with the same data.\n",
        "\n",
        "arr = np.array([1, 2, 3, 4, 5])\n",
        "arr_view = arr.view()\n",
        "print(arr_view)"
      ],
      "metadata": {
        "colab": {
          "base_uri": "https://localhost:8080/"
        },
        "id": "Ck0PLLnHCtW2",
        "outputId": "14d02980-a1f5-42ac-ddc6-f1ef451393a9"
      },
      "execution_count": null,
      "outputs": [
        {
          "output_type": "stream",
          "name": "stdout",
          "text": [
            "[1 2 3 4 5]\n"
          ]
        }
      ]
    },
    {
      "cell_type": "code",
      "source": [
        "# Q18) Write a function that takes two NumPy arrays and concatenates them along a specified axis.\n",
        "\n",
        "def concatenates_arrays(arr1, arr2, axis):\n",
        "    return np.concatenate((arr1, arr2), axis=axis)"
      ],
      "metadata": {
        "id": "elmbfnRgDGJ1"
      },
      "execution_count": null,
      "outputs": []
    },
    {
      "cell_type": "code",
      "source": [
        "# Q19)  Create two NumPy arrays with different shapes and concatenate them horizontally using `numpy concatenate`.\n",
        "\n",
        "arr1 = np.array([1, 2, 3])\n",
        "arr2 = np.array([4, 5, 6])\n",
        "concatenated_arr = np.concatenate((arr1, arr2), axis=0)\n",
        "print(concatenated_arr)"
      ],
      "metadata": {
        "colab": {
          "base_uri": "https://localhost:8080/"
        },
        "id": "q3_aHvdIDrue",
        "outputId": "a9b9fd90-0a71-44ea-b251-41c84d821361"
      },
      "execution_count": null,
      "outputs": [
        {
          "output_type": "stream",
          "name": "stdout",
          "text": [
            "[1 2 3 4 5 6]\n"
          ]
        }
      ]
    },
    {
      "cell_type": "code",
      "source": [
        "# Q20) Write a function that vertically stacks multiple NumPy arrays given as a list.\n",
        "\n",
        "def vertical_stack(arrays):\n",
        "    return np.vstack(arrays)"
      ],
      "metadata": {
        "id": "NtX69cVjSwfd"
      },
      "execution_count": null,
      "outputs": []
    },
    {
      "cell_type": "code",
      "source": [
        "# Q21) Write a Python function using NumPy to create an array of integers within a specified range (inclusive) with a given step size.\n",
        "\n",
        "def create_array_of_integers(start, stop, step):\n",
        "    return np.arange(start, stop+1, step)"
      ],
      "metadata": {
        "id": "SX3w1AFVTep6"
      },
      "execution_count": null,
      "outputs": []
    },
    {
      "cell_type": "code",
      "source": [
        "# Q22) Write a Python function using NumPy to generate an array of 10 equally spaced values between 0 and 1 (inclusive).\n",
        "\n",
        "def create_array_of_equally_spaced_values():\n",
        "    return np.linspace(0, 1, 10)"
      ],
      "metadata": {
        "id": "B9nZuholTYj_"
      },
      "execution_count": null,
      "outputs": []
    },
    {
      "cell_type": "code",
      "source": [
        "create_array_of_equally_spaced_values()"
      ],
      "metadata": {
        "colab": {
          "base_uri": "https://localhost:8080/"
        },
        "id": "k_l-ExIEUBV-",
        "outputId": "4af6eb31-2186-4987-a7c6-c26fb1a7cdfe"
      },
      "execution_count": null,
      "outputs": [
        {
          "output_type": "execute_result",
          "data": {
            "text/plain": [
              "array([0.        , 0.11111111, 0.22222222, 0.33333333, 0.44444444,\n",
              "       0.55555556, 0.66666667, 0.77777778, 0.88888889, 1.        ])"
            ]
          },
          "metadata": {},
          "execution_count": 60
        }
      ]
    },
    {
      "cell_type": "code",
      "source": [
        "# Q23) Write a Python function using NumPy to create an array of 5 logarithmically spaced values between 1 and 1000 (inclusive).\n",
        "\n",
        "def create_array_of_logarithmically_spaced_values():\n",
        "    return np.logspace(1, 1000, 5)"
      ],
      "metadata": {
        "id": "IGJH6lf8URKy"
      },
      "execution_count": 62,
      "outputs": []
    },
    {
      "cell_type": "code",
      "source": [
        "create_array_of_logarithmically_spaced_values()"
      ],
      "metadata": {
        "colab": {
          "base_uri": "https://localhost:8080/"
        },
        "id": "QWPObkZoWacp",
        "outputId": "570ebb34-e0d2-468d-a5f6-0ba04d7b2f09"
      },
      "execution_count": 63,
      "outputs": [
        {
          "output_type": "stream",
          "name": "stderr",
          "text": [
            "/usr/local/lib/python3.10/dist-packages/numpy/core/function_base.py:298: RuntimeWarning: overflow encountered in power\n",
            "  return _nx.power(base, y)\n"
          ]
        },
        {
          "output_type": "execute_result",
          "data": {
            "text/plain": [
              "array([1.00000000e+001, 5.62341325e+250,             inf,             inf,\n",
              "                   inf])"
            ]
          },
          "metadata": {},
          "execution_count": 63
        }
      ]
    },
    {
      "cell_type": "code",
      "source": [
        "# Q24) Create a Pandas DataFrame using a NumPy array that contains 5 rows and 3 columns, where the values are random integers between 1 and 100.\n",
        "\n",
        "df = pd.DataFrame(np.random.randint(1, 100, (5, 3)))\n",
        "df"
      ],
      "metadata": {
        "colab": {
          "base_uri": "https://localhost:8080/",
          "height": 206
        },
        "id": "v4l0TWq0Wl7e",
        "outputId": "24f28e7c-3718-463a-bd9f-d282633edeed"
      },
      "execution_count": 70,
      "outputs": [
        {
          "output_type": "execute_result",
          "data": {
            "text/plain": [
              "    0   1   2\n",
              "0  13   1  20\n",
              "1  32  37  60\n",
              "2  11  56  95\n",
              "3  84  70  43\n",
              "4  14  34  72"
            ],
            "text/html": [
              "\n",
              "  <div id=\"df-8e139b13-1c1a-4519-acf7-73e4191b785d\" class=\"colab-df-container\">\n",
              "    <div>\n",
              "<style scoped>\n",
              "    .dataframe tbody tr th:only-of-type {\n",
              "        vertical-align: middle;\n",
              "    }\n",
              "\n",
              "    .dataframe tbody tr th {\n",
              "        vertical-align: top;\n",
              "    }\n",
              "\n",
              "    .dataframe thead th {\n",
              "        text-align: right;\n",
              "    }\n",
              "</style>\n",
              "<table border=\"1\" class=\"dataframe\">\n",
              "  <thead>\n",
              "    <tr style=\"text-align: right;\">\n",
              "      <th></th>\n",
              "      <th>0</th>\n",
              "      <th>1</th>\n",
              "      <th>2</th>\n",
              "    </tr>\n",
              "  </thead>\n",
              "  <tbody>\n",
              "    <tr>\n",
              "      <th>0</th>\n",
              "      <td>13</td>\n",
              "      <td>1</td>\n",
              "      <td>20</td>\n",
              "    </tr>\n",
              "    <tr>\n",
              "      <th>1</th>\n",
              "      <td>32</td>\n",
              "      <td>37</td>\n",
              "      <td>60</td>\n",
              "    </tr>\n",
              "    <tr>\n",
              "      <th>2</th>\n",
              "      <td>11</td>\n",
              "      <td>56</td>\n",
              "      <td>95</td>\n",
              "    </tr>\n",
              "    <tr>\n",
              "      <th>3</th>\n",
              "      <td>84</td>\n",
              "      <td>70</td>\n",
              "      <td>43</td>\n",
              "    </tr>\n",
              "    <tr>\n",
              "      <th>4</th>\n",
              "      <td>14</td>\n",
              "      <td>34</td>\n",
              "      <td>72</td>\n",
              "    </tr>\n",
              "  </tbody>\n",
              "</table>\n",
              "</div>\n",
              "    <div class=\"colab-df-buttons\">\n",
              "\n",
              "  <div class=\"colab-df-container\">\n",
              "    <button class=\"colab-df-convert\" onclick=\"convertToInteractive('df-8e139b13-1c1a-4519-acf7-73e4191b785d')\"\n",
              "            title=\"Convert this dataframe to an interactive table.\"\n",
              "            style=\"display:none;\">\n",
              "\n",
              "  <svg xmlns=\"http://www.w3.org/2000/svg\" height=\"24px\" viewBox=\"0 -960 960 960\">\n",
              "    <path d=\"M120-120v-720h720v720H120Zm60-500h600v-160H180v160Zm220 220h160v-160H400v160Zm0 220h160v-160H400v160ZM180-400h160v-160H180v160Zm440 0h160v-160H620v160ZM180-180h160v-160H180v160Zm440 0h160v-160H620v160Z\"/>\n",
              "  </svg>\n",
              "    </button>\n",
              "\n",
              "  <style>\n",
              "    .colab-df-container {\n",
              "      display:flex;\n",
              "      gap: 12px;\n",
              "    }\n",
              "\n",
              "    .colab-df-convert {\n",
              "      background-color: #E8F0FE;\n",
              "      border: none;\n",
              "      border-radius: 50%;\n",
              "      cursor: pointer;\n",
              "      display: none;\n",
              "      fill: #1967D2;\n",
              "      height: 32px;\n",
              "      padding: 0 0 0 0;\n",
              "      width: 32px;\n",
              "    }\n",
              "\n",
              "    .colab-df-convert:hover {\n",
              "      background-color: #E2EBFA;\n",
              "      box-shadow: 0px 1px 2px rgba(60, 64, 67, 0.3), 0px 1px 3px 1px rgba(60, 64, 67, 0.15);\n",
              "      fill: #174EA6;\n",
              "    }\n",
              "\n",
              "    .colab-df-buttons div {\n",
              "      margin-bottom: 4px;\n",
              "    }\n",
              "\n",
              "    [theme=dark] .colab-df-convert {\n",
              "      background-color: #3B4455;\n",
              "      fill: #D2E3FC;\n",
              "    }\n",
              "\n",
              "    [theme=dark] .colab-df-convert:hover {\n",
              "      background-color: #434B5C;\n",
              "      box-shadow: 0px 1px 3px 1px rgba(0, 0, 0, 0.15);\n",
              "      filter: drop-shadow(0px 1px 2px rgba(0, 0, 0, 0.3));\n",
              "      fill: #FFFFFF;\n",
              "    }\n",
              "  </style>\n",
              "\n",
              "    <script>\n",
              "      const buttonEl =\n",
              "        document.querySelector('#df-8e139b13-1c1a-4519-acf7-73e4191b785d button.colab-df-convert');\n",
              "      buttonEl.style.display =\n",
              "        google.colab.kernel.accessAllowed ? 'block' : 'none';\n",
              "\n",
              "      async function convertToInteractive(key) {\n",
              "        const element = document.querySelector('#df-8e139b13-1c1a-4519-acf7-73e4191b785d');\n",
              "        const dataTable =\n",
              "          await google.colab.kernel.invokeFunction('convertToInteractive',\n",
              "                                                    [key], {});\n",
              "        if (!dataTable) return;\n",
              "\n",
              "        const docLinkHtml = 'Like what you see? Visit the ' +\n",
              "          '<a target=\"_blank\" href=https://colab.research.google.com/notebooks/data_table.ipynb>data table notebook</a>'\n",
              "          + ' to learn more about interactive tables.';\n",
              "        element.innerHTML = '';\n",
              "        dataTable['output_type'] = 'display_data';\n",
              "        await google.colab.output.renderOutput(dataTable, element);\n",
              "        const docLink = document.createElement('div');\n",
              "        docLink.innerHTML = docLinkHtml;\n",
              "        element.appendChild(docLink);\n",
              "      }\n",
              "    </script>\n",
              "  </div>\n",
              "\n",
              "\n",
              "<div id=\"df-43bebf49-5cf0-4c5b-945e-a842bd5f2b68\">\n",
              "  <button class=\"colab-df-quickchart\" onclick=\"quickchart('df-43bebf49-5cf0-4c5b-945e-a842bd5f2b68')\"\n",
              "            title=\"Suggest charts\"\n",
              "            style=\"display:none;\">\n",
              "\n",
              "<svg xmlns=\"http://www.w3.org/2000/svg\" height=\"24px\"viewBox=\"0 0 24 24\"\n",
              "     width=\"24px\">\n",
              "    <g>\n",
              "        <path d=\"M19 3H5c-1.1 0-2 .9-2 2v14c0 1.1.9 2 2 2h14c1.1 0 2-.9 2-2V5c0-1.1-.9-2-2-2zM9 17H7v-7h2v7zm4 0h-2V7h2v10zm4 0h-2v-4h2v4z\"/>\n",
              "    </g>\n",
              "</svg>\n",
              "  </button>\n",
              "\n",
              "<style>\n",
              "  .colab-df-quickchart {\n",
              "      --bg-color: #E8F0FE;\n",
              "      --fill-color: #1967D2;\n",
              "      --hover-bg-color: #E2EBFA;\n",
              "      --hover-fill-color: #174EA6;\n",
              "      --disabled-fill-color: #AAA;\n",
              "      --disabled-bg-color: #DDD;\n",
              "  }\n",
              "\n",
              "  [theme=dark] .colab-df-quickchart {\n",
              "      --bg-color: #3B4455;\n",
              "      --fill-color: #D2E3FC;\n",
              "      --hover-bg-color: #434B5C;\n",
              "      --hover-fill-color: #FFFFFF;\n",
              "      --disabled-bg-color: #3B4455;\n",
              "      --disabled-fill-color: #666;\n",
              "  }\n",
              "\n",
              "  .colab-df-quickchart {\n",
              "    background-color: var(--bg-color);\n",
              "    border: none;\n",
              "    border-radius: 50%;\n",
              "    cursor: pointer;\n",
              "    display: none;\n",
              "    fill: var(--fill-color);\n",
              "    height: 32px;\n",
              "    padding: 0;\n",
              "    width: 32px;\n",
              "  }\n",
              "\n",
              "  .colab-df-quickchart:hover {\n",
              "    background-color: var(--hover-bg-color);\n",
              "    box-shadow: 0 1px 2px rgba(60, 64, 67, 0.3), 0 1px 3px 1px rgba(60, 64, 67, 0.15);\n",
              "    fill: var(--button-hover-fill-color);\n",
              "  }\n",
              "\n",
              "  .colab-df-quickchart-complete:disabled,\n",
              "  .colab-df-quickchart-complete:disabled:hover {\n",
              "    background-color: var(--disabled-bg-color);\n",
              "    fill: var(--disabled-fill-color);\n",
              "    box-shadow: none;\n",
              "  }\n",
              "\n",
              "  .colab-df-spinner {\n",
              "    border: 2px solid var(--fill-color);\n",
              "    border-color: transparent;\n",
              "    border-bottom-color: var(--fill-color);\n",
              "    animation:\n",
              "      spin 1s steps(1) infinite;\n",
              "  }\n",
              "\n",
              "  @keyframes spin {\n",
              "    0% {\n",
              "      border-color: transparent;\n",
              "      border-bottom-color: var(--fill-color);\n",
              "      border-left-color: var(--fill-color);\n",
              "    }\n",
              "    20% {\n",
              "      border-color: transparent;\n",
              "      border-left-color: var(--fill-color);\n",
              "      border-top-color: var(--fill-color);\n",
              "    }\n",
              "    30% {\n",
              "      border-color: transparent;\n",
              "      border-left-color: var(--fill-color);\n",
              "      border-top-color: var(--fill-color);\n",
              "      border-right-color: var(--fill-color);\n",
              "    }\n",
              "    40% {\n",
              "      border-color: transparent;\n",
              "      border-right-color: var(--fill-color);\n",
              "      border-top-color: var(--fill-color);\n",
              "    }\n",
              "    60% {\n",
              "      border-color: transparent;\n",
              "      border-right-color: var(--fill-color);\n",
              "    }\n",
              "    80% {\n",
              "      border-color: transparent;\n",
              "      border-right-color: var(--fill-color);\n",
              "      border-bottom-color: var(--fill-color);\n",
              "    }\n",
              "    90% {\n",
              "      border-color: transparent;\n",
              "      border-bottom-color: var(--fill-color);\n",
              "    }\n",
              "  }\n",
              "</style>\n",
              "\n",
              "  <script>\n",
              "    async function quickchart(key) {\n",
              "      const quickchartButtonEl =\n",
              "        document.querySelector('#' + key + ' button');\n",
              "      quickchartButtonEl.disabled = true;  // To prevent multiple clicks.\n",
              "      quickchartButtonEl.classList.add('colab-df-spinner');\n",
              "      try {\n",
              "        const charts = await google.colab.kernel.invokeFunction(\n",
              "            'suggestCharts', [key], {});\n",
              "      } catch (error) {\n",
              "        console.error('Error during call to suggestCharts:', error);\n",
              "      }\n",
              "      quickchartButtonEl.classList.remove('colab-df-spinner');\n",
              "      quickchartButtonEl.classList.add('colab-df-quickchart-complete');\n",
              "    }\n",
              "    (() => {\n",
              "      let quickchartButtonEl =\n",
              "        document.querySelector('#df-43bebf49-5cf0-4c5b-945e-a842bd5f2b68 button');\n",
              "      quickchartButtonEl.style.display =\n",
              "        google.colab.kernel.accessAllowed ? 'block' : 'none';\n",
              "    })();\n",
              "  </script>\n",
              "</div>\n",
              "\n",
              "  <div id=\"id_d9e46faa-b90c-4474-a182-fe8458405fb9\">\n",
              "    <style>\n",
              "      .colab-df-generate {\n",
              "        background-color: #E8F0FE;\n",
              "        border: none;\n",
              "        border-radius: 50%;\n",
              "        cursor: pointer;\n",
              "        display: none;\n",
              "        fill: #1967D2;\n",
              "        height: 32px;\n",
              "        padding: 0 0 0 0;\n",
              "        width: 32px;\n",
              "      }\n",
              "\n",
              "      .colab-df-generate:hover {\n",
              "        background-color: #E2EBFA;\n",
              "        box-shadow: 0px 1px 2px rgba(60, 64, 67, 0.3), 0px 1px 3px 1px rgba(60, 64, 67, 0.15);\n",
              "        fill: #174EA6;\n",
              "      }\n",
              "\n",
              "      [theme=dark] .colab-df-generate {\n",
              "        background-color: #3B4455;\n",
              "        fill: #D2E3FC;\n",
              "      }\n",
              "\n",
              "      [theme=dark] .colab-df-generate:hover {\n",
              "        background-color: #434B5C;\n",
              "        box-shadow: 0px 1px 3px 1px rgba(0, 0, 0, 0.15);\n",
              "        filter: drop-shadow(0px 1px 2px rgba(0, 0, 0, 0.3));\n",
              "        fill: #FFFFFF;\n",
              "      }\n",
              "    </style>\n",
              "    <button class=\"colab-df-generate\" onclick=\"generateWithVariable('df')\"\n",
              "            title=\"Generate code using this dataframe.\"\n",
              "            style=\"display:none;\">\n",
              "\n",
              "  <svg xmlns=\"http://www.w3.org/2000/svg\" height=\"24px\"viewBox=\"0 0 24 24\"\n",
              "       width=\"24px\">\n",
              "    <path d=\"M7,19H8.4L18.45,9,17,7.55,7,17.6ZM5,21V16.75L18.45,3.32a2,2,0,0,1,2.83,0l1.4,1.43a1.91,1.91,0,0,1,.58,1.4,1.91,1.91,0,0,1-.58,1.4L9.25,21ZM18.45,9,17,7.55Zm-12,3A5.31,5.31,0,0,0,4.9,8.1,5.31,5.31,0,0,0,1,6.5,5.31,5.31,0,0,0,4.9,4.9,5.31,5.31,0,0,0,6.5,1,5.31,5.31,0,0,0,8.1,4.9,5.31,5.31,0,0,0,12,6.5,5.46,5.46,0,0,0,6.5,12Z\"/>\n",
              "  </svg>\n",
              "    </button>\n",
              "    <script>\n",
              "      (() => {\n",
              "      const buttonEl =\n",
              "        document.querySelector('#id_d9e46faa-b90c-4474-a182-fe8458405fb9 button.colab-df-generate');\n",
              "      buttonEl.style.display =\n",
              "        google.colab.kernel.accessAllowed ? 'block' : 'none';\n",
              "\n",
              "      buttonEl.onclick = () => {\n",
              "        google.colab.notebook.generateWithVariable('df');\n",
              "      }\n",
              "      })();\n",
              "    </script>\n",
              "  </div>\n",
              "\n",
              "    </div>\n",
              "  </div>\n"
            ],
            "application/vnd.google.colaboratory.intrinsic+json": {
              "type": "dataframe",
              "variable_name": "df",
              "summary": "{\n  \"name\": \"df\",\n  \"rows\": 5,\n  \"fields\": [\n    {\n      \"column\": 0,\n      \"properties\": {\n        \"dtype\": \"number\",\n        \"std\": 30,\n        \"min\": 11,\n        \"max\": 84,\n        \"num_unique_values\": 5,\n        \"samples\": [\n          32,\n          14,\n          11\n        ],\n        \"semantic_type\": \"\",\n        \"description\": \"\"\n      }\n    },\n    {\n      \"column\": 1,\n      \"properties\": {\n        \"dtype\": \"number\",\n        \"std\": 26,\n        \"min\": 1,\n        \"max\": 70,\n        \"num_unique_values\": 5,\n        \"samples\": [\n          37,\n          34,\n          56\n        ],\n        \"semantic_type\": \"\",\n        \"description\": \"\"\n      }\n    },\n    {\n      \"column\": 2,\n      \"properties\": {\n        \"dtype\": \"number\",\n        \"std\": 28,\n        \"min\": 20,\n        \"max\": 95,\n        \"num_unique_values\": 5,\n        \"samples\": [\n          60,\n          72,\n          95\n        ],\n        \"semantic_type\": \"\",\n        \"description\": \"\"\n      }\n    }\n  ]\n}"
            }
          },
          "metadata": {},
          "execution_count": 70
        }
      ]
    },
    {
      "cell_type": "code",
      "source": [
        "# Q25) Write a function that takes a Pandas DataFrame and replaces all negative values in a specific column with zeros. Use NumPy operations within the Pandas DataFrame.\n",
        "\n",
        "def replace_negative_values(df, column_name):\n",
        "    df.loc[df[column_name] < 0, column_name] = 0"
      ],
      "metadata": {
        "id": "SRRBu_6ZW_JC"
      },
      "execution_count": 73,
      "outputs": []
    },
    {
      "cell_type": "code",
      "source": [
        "# Q26) Access the 3rd element from the given NumPy array.\n",
        "\n",
        "arr = np.array([10, 20, 30, 40, 50])\n",
        "third_element = arr[2]\n",
        "print(third_element)"
      ],
      "metadata": {
        "colab": {
          "base_uri": "https://localhost:8080/"
        },
        "id": "JffND35TX4Uz",
        "outputId": "daec4467-f2e7-478f-afcd-d57bbf31c391"
      },
      "execution_count": 75,
      "outputs": [
        {
          "output_type": "stream",
          "name": "stdout",
          "text": [
            "30\n"
          ]
        }
      ]
    },
    {
      "cell_type": "code",
      "source": [
        "# Q27)  Retrieve the element at index (1, 2) from the 2D NumPy array.\n",
        "\n",
        "arr_2d = np.array([[1, 2, 3],\n",
        "                   [4, 5, 6],\n",
        "                   [7, 8, 9]])\n",
        "element = arr_2d[1, 2]\n",
        "print(element)"
      ],
      "metadata": {
        "colab": {
          "base_uri": "https://localhost:8080/"
        },
        "id": "zyGu63bvXhUT",
        "outputId": "4b68afeb-f63e-46c0-aec0-72ea8d510abf"
      },
      "execution_count": 77,
      "outputs": [
        {
          "output_type": "stream",
          "name": "stdout",
          "text": [
            "6\n"
          ]
        }
      ]
    },
    {
      "cell_type": "code",
      "source": [
        "# Q28) Using boolean indexing, extract elements greater than 5 from the given NumPy array.\n",
        "\n",
        "arr = np.array([3, 8, 2, 10, 5, 7])\n",
        "\n",
        "greater = arr[arr > 5]\n",
        "print(greater)"
      ],
      "metadata": {
        "colab": {
          "base_uri": "https://localhost:8080/"
        },
        "id": "CBcFEtAqYzM1",
        "outputId": "17d607c4-3fa3-421e-f1d4-176443f97924"
      },
      "execution_count": 79,
      "outputs": [
        {
          "output_type": "stream",
          "name": "stdout",
          "text": [
            "[ 8 10  7]\n"
          ]
        }
      ]
    },
    {
      "cell_type": "code",
      "source": [
        "# Q29) Perform basic slicing to extract elements from index 2 to 5 (inclusive) from the given NumPy array.\n",
        "\n",
        "arr = np.array([1, 2, 3, 4, 5, 6, 7, 8, 9])\n",
        "\n",
        "slice_arr = arr[2:6]\n",
        "print(slice_arr)\n"
      ],
      "metadata": {
        "colab": {
          "base_uri": "https://localhost:8080/"
        },
        "id": "VntwOLP_Y5nC",
        "outputId": "0f17aa8f-b9cc-4a8e-aa7a-8b8acf00a89e"
      },
      "execution_count": 81,
      "outputs": [
        {
          "output_type": "stream",
          "name": "stdout",
          "text": [
            "[3 4 5 6]\n"
          ]
        }
      ]
    },
    {
      "cell_type": "code",
      "source": [
        "# Q30) Slice the 2D NumPy array to extract the sub-array `[[2, 3], [5, 6]]` from the given array\n",
        "\n",
        "arr_2d = np.array([[1, 2, 3],\n",
        "                   [4, 5, 6],\n",
        "                   [7, 8, 9]])\n",
        "\n",
        "arr_2d[0:2,1:3]"
      ],
      "metadata": {
        "colab": {
          "base_uri": "https://localhost:8080/"
        },
        "id": "2mS915a3ZyKA",
        "outputId": "f0d08877-188a-4918-d0a1-6ecf5e0cc618"
      },
      "execution_count": 86,
      "outputs": [
        {
          "output_type": "execute_result",
          "data": {
            "text/plain": [
              "array([[2, 3],\n",
              "       [5, 6]])"
            ]
          },
          "metadata": {},
          "execution_count": 86
        }
      ]
    },
    {
      "cell_type": "code",
      "source": [
        "# Q31) Write a NumPy function to extract elements in specific order from a given 2D array based on indices provided in another array.\n",
        "\n",
        "def extract_elements(arr, indices):\n",
        "    return arr[indices]"
      ],
      "metadata": {
        "id": "qHfiP0PrahFS"
      },
      "execution_count": 88,
      "outputs": []
    },
    {
      "cell_type": "code",
      "source": [
        "# Q32)  Create a NumPy function that filters elements greater than a threshold from a given 1D array using boolean indexing.\n",
        "\n",
        "arr = np.array([1, 2, 3, 4, 5, 1, 6, 7, 8, 9])\n",
        "\n",
        "def filter_elements(arr):\n",
        "    return arr[arr > min(arr)]"
      ],
      "metadata": {
        "id": "qANa7t93atdU"
      },
      "execution_count": 93,
      "outputs": []
    },
    {
      "cell_type": "code",
      "source": [
        "filter_elements(arr)"
      ],
      "metadata": {
        "colab": {
          "base_uri": "https://localhost:8080/"
        },
        "id": "de5A9DLYbB6-",
        "outputId": "c373c48f-bc34-4650-db85-120332043be4"
      },
      "execution_count": 94,
      "outputs": [
        {
          "output_type": "execute_result",
          "data": {
            "text/plain": [
              "array([2, 3, 4, 5, 6, 7, 8, 9])"
            ]
          },
          "metadata": {},
          "execution_count": 94
        }
      ]
    },
    {
      "cell_type": "code",
      "source": [
        "# Q33) Develop a NumPy function that extracts specific elements from a 3D array using indices provided in three separate arrays for each dimension.\n",
        "\n",
        "def extract_elements(arr, x, y, z):\n",
        "    return arr[x, y, z]"
      ],
      "metadata": {
        "id": "d4mrZdYWbj_6"
      },
      "execution_count": 95,
      "outputs": []
    },
    {
      "cell_type": "code",
      "source": [
        "# Q34) Write a NumPy function that returns elements from an array where both two conditions are satisfied using boolean indexing.\n",
        "\n",
        "def extract_elements(arr, condition1, condition2):\n",
        "    return arr[(arr > condition1) & (arr < condition2)]"
      ],
      "metadata": {
        "id": "bMQnn7Ofb3Wy"
      },
      "execution_count": 97,
      "outputs": []
    },
    {
      "cell_type": "code",
      "source": [
        "# Q35) Create a NumPy function that extracts elements from a 2D array using row and column indices provided in separate arrays.\n",
        "\n",
        "def extract_elements(arr, row_indices, col_indices):\n",
        "    return arr[row_indices, col_indices]"
      ],
      "metadata": {
        "id": "8wkbkk45cHN0"
      },
      "execution_count": 99,
      "outputs": []
    },
    {
      "cell_type": "code",
      "source": [
        "# Q36) Given an array arr of shape (3, 3), add a scalar value of 5 to each element using NumPy broadcasting.\n",
        "\n",
        "arr = np.array([[1, 2, 3],[4, 5, 6],[7, 8, 9]])\n",
        "arr + 5"
      ],
      "metadata": {
        "colab": {
          "base_uri": "https://localhost:8080/"
        },
        "id": "Uh9ePO8NcZKg",
        "outputId": "ccbc1b4a-9c8a-4ece-d820-0c1a67436902"
      },
      "execution_count": 100,
      "outputs": [
        {
          "output_type": "execute_result",
          "data": {
            "text/plain": [
              "array([[ 6,  7,  8],\n",
              "       [ 9, 10, 11],\n",
              "       [12, 13, 14]])"
            ]
          },
          "metadata": {},
          "execution_count": 100
        }
      ]
    },
    {
      "cell_type": "code",
      "source": [
        "# Q37)  Consider two arrays arr1 of shape (1, 3) and arr2 of shape (3, 4). Multiply each row of arr2 by the corresponding element in arr1 using NumPy broadcasting.\n",
        "\n",
        "arr1 = np.array([[1, 2, 3]])\n",
        "arr2 = np.array([[1, 2, 3, 4],[5, 6, 7, 8],[9, 10, 11, 12]])\n",
        "\n",
        "arr1 @ arr2"
      ],
      "metadata": {
        "colab": {
          "base_uri": "https://localhost:8080/"
        },
        "id": "TqRNuBhHdBuc",
        "outputId": "5580b247-3885-447c-83c5-7f2556c29540"
      },
      "execution_count": 105,
      "outputs": [
        {
          "output_type": "execute_result",
          "data": {
            "text/plain": [
              "array([[38, 44, 50, 56]])"
            ]
          },
          "metadata": {},
          "execution_count": 105
        }
      ]
    },
    {
      "cell_type": "code",
      "source": [
        "# 38) Given a 1D array arr1 of shape (1, 4) and a 2D array arr2 of shape (4, 3), add arr1 to each row of arr2 using NumPy broadcasting.\n",
        "\n",
        "arr1 = np.array([[1, 2, 3, 4]])\n",
        "arr2 = np.array([[1, 2, 3],[4, 5, 6],[7, 8, 9],[10, 11, 12]])\n",
        "\n",
        "arr2 + arr1.T"
      ],
      "metadata": {
        "colab": {
          "base_uri": "https://localhost:8080/"
        },
        "id": "5LWaN98NdWDs",
        "outputId": "2e7ac7d0-88a7-4b96-eb31-87f4f58711f0"
      },
      "execution_count": 108,
      "outputs": [
        {
          "output_type": "execute_result",
          "data": {
            "text/plain": [
              "array([[ 2,  3,  4],\n",
              "       [ 6,  7,  8],\n",
              "       [10, 11, 12],\n",
              "       [14, 15, 16]])"
            ]
          },
          "metadata": {},
          "execution_count": 108
        }
      ]
    },
    {
      "cell_type": "code",
      "source": [
        "# 39) Consider two arrays arr1 of shape (3, 1) and arr2 of shape (1, 3). Add these arrays using NumPy broadcasting.\n",
        "\n",
        "arr1 = np.array([[1],[2],[3]])\n",
        "arr2 = np.array([[1, 2, 3]])\n",
        "\n",
        "arr1 + arr2"
      ],
      "metadata": {
        "colab": {
          "base_uri": "https://localhost:8080/"
        },
        "id": "0ch7szCXeVpt",
        "outputId": "3cd048d3-c07f-45df-eb5b-47763fed3008"
      },
      "execution_count": 109,
      "outputs": [
        {
          "output_type": "execute_result",
          "data": {
            "text/plain": [
              "array([[2, 3, 4],\n",
              "       [3, 4, 5],\n",
              "       [4, 5, 6]])"
            ]
          },
          "metadata": {},
          "execution_count": 109
        }
      ]
    },
    {
      "cell_type": "code",
      "source": [
        "# 40) Given arrays arr1 of shape (2, 3) and arr2 of shape (2, 2), perform multiplication using NumPy broadcasting. Handle the shape incompatibility.\n",
        "\n",
        "arr1 = np.array([[1, 2, 3],[4, 5, 6]])\n",
        "arr2 = np.array([[1, 2],[3, 4]])\n",
        "\n"
      ],
      "metadata": {
        "id": "7A9N8RACe5Fx"
      },
      "execution_count": 113,
      "outputs": []
    },
    {
      "cell_type": "code",
      "source": [
        "# Q41) Calculate column wise mean for the given array:\n",
        "\n",
        "arr = np.array([[1, 2, 3], [4, 5, 6]])\n",
        "arr.mean(axis=0)"
      ],
      "metadata": {
        "colab": {
          "base_uri": "https://localhost:8080/"
        },
        "id": "5CVVcHUpgp4M",
        "outputId": "71124724-8cd0-480e-b4a6-6d4739208586"
      },
      "execution_count": 116,
      "outputs": [
        {
          "output_type": "execute_result",
          "data": {
            "text/plain": [
              "array([2.5, 3.5, 4.5])"
            ]
          },
          "metadata": {},
          "execution_count": 116
        }
      ]
    },
    {
      "cell_type": "code",
      "source": [
        "# Q42) Find maximum value in each row of the given array:\n",
        "\n",
        "arr = np.array([[1, 2, 3], [4, 5, 6]])\n",
        "arr.max(axis=1)\n"
      ],
      "metadata": {
        "colab": {
          "base_uri": "https://localhost:8080/"
        },
        "id": "efNOOnYchu0v",
        "outputId": "d98cb7eb-1d1b-4df6-efb6-4a9f7b303b6f"
      },
      "execution_count": 117,
      "outputs": [
        {
          "output_type": "execute_result",
          "data": {
            "text/plain": [
              "array([3, 6])"
            ]
          },
          "metadata": {},
          "execution_count": 117
        }
      ]
    },
    {
      "cell_type": "code",
      "source": [
        "# Q43) For the given array, find indices of maximum value in each column.\n",
        "\n",
        "arr = np.array([[1, 2, 3], [4, 5, 6]])\n",
        "arr.argmax(axis=0)"
      ],
      "metadata": {
        "colab": {
          "base_uri": "https://localhost:8080/"
        },
        "id": "Pn5d9GsJin9b",
        "outputId": "c69532df-eeff-466e-9efe-17720ab69ebe"
      },
      "execution_count": 118,
      "outputs": [
        {
          "output_type": "execute_result",
          "data": {
            "text/plain": [
              "array([1, 1, 1])"
            ]
          },
          "metadata": {},
          "execution_count": 118
        }
      ]
    },
    {
      "cell_type": "code",
      "source": [
        "# Q44) For the given array, apply custom function to calculate moving sum along rows.\n",
        "\n",
        "arr = np.array([[1, 2, 3], [4, 5, 6]])\n",
        "np.cumsum(arr, axis=1)"
      ],
      "metadata": {
        "colab": {
          "base_uri": "https://localhost:8080/"
        },
        "id": "qXTE5UCUjA8b",
        "outputId": "f2a7dabd-a3f4-4a36-ff7f-2e828605dbbf"
      },
      "execution_count": 119,
      "outputs": [
        {
          "output_type": "execute_result",
          "data": {
            "text/plain": [
              "array([[ 1,  3,  6],\n",
              "       [ 4,  9, 15]])"
            ]
          },
          "metadata": {},
          "execution_count": 119
        }
      ]
    },
    {
      "cell_type": "code",
      "source": [
        "# Q45) In the given array, check if all elements in each column are even.\n",
        "\n",
        "arr = np.array([[2, 4, 6], [3, 5, 7]])\n",
        "np.all(arr % 2 == 0, axis=0)"
      ],
      "metadata": {
        "colab": {
          "base_uri": "https://localhost:8080/"
        },
        "id": "8zB78Lr3jVzL",
        "outputId": "6959668a-2ffb-4a93-ac91-bcf3ec5f3367"
      },
      "execution_count": 120,
      "outputs": [
        {
          "output_type": "execute_result",
          "data": {
            "text/plain": [
              "array([False, False, False])"
            ]
          },
          "metadata": {},
          "execution_count": 120
        }
      ]
    },
    {
      "cell_type": "code",
      "source": [
        "# Q46) Given a NumPy array arr, reshape it into a matrix of dimensions `m` rows and `n` columns. Return the reshaped matrix\n",
        "\n",
        "original_array = np.array([1, 2, 3, 4, 5, 6])\n",
        "reshaped_array = original_array.reshape(2, 3)\n",
        "reshaped_matrix = np.asmatrix(reshaped_array)\n",
        "print(reshaped_matrix)"
      ],
      "metadata": {
        "colab": {
          "base_uri": "https://localhost:8080/"
        },
        "id": "6JzfIMdSj2fb",
        "outputId": "609f37dc-6cae-464e-e43c-bd8bac3a2257"
      },
      "execution_count": 123,
      "outputs": [
        {
          "output_type": "stream",
          "name": "stdout",
          "text": [
            "[[1 2 3]\n",
            " [4 5 6]]\n"
          ]
        }
      ]
    },
    {
      "cell_type": "code",
      "source": [
        "# Q47) Create a function that takes a matrix as input and returns the flattened array.\n",
        "\n",
        "def flatten_matrix(matrix):\n",
        "    return matrix.flatten()"
      ],
      "metadata": {
        "id": "Atda0ylzkXqQ"
      },
      "execution_count": 125,
      "outputs": []
    },
    {
      "cell_type": "code",
      "source": [
        "input_matrix = np.array([[1, 2, 3], [4, 5, 6]])\n",
        "\n",
        "flatten_matrix(input_matrix)"
      ],
      "metadata": {
        "colab": {
          "base_uri": "https://localhost:8080/"
        },
        "id": "5H1KZGGnkHQR",
        "outputId": "3aaf5c9e-cd9b-4ff8-a855-93be6cbb28ec"
      },
      "execution_count": 126,
      "outputs": [
        {
          "output_type": "execute_result",
          "data": {
            "text/plain": [
              "array([1, 2, 3, 4, 5, 6])"
            ]
          },
          "metadata": {},
          "execution_count": 126
        }
      ]
    },
    {
      "cell_type": "code",
      "source": [
        "# Q48) Write a function that concatenates two given arrays along a specified axis.\n",
        "\n",
        "def concatenate_arrays(arr1, arr2, axis):\n",
        "    return np.concatenate((arr1, arr2), axis=axis)"
      ],
      "metadata": {
        "id": "B77Pq4jvk0jz"
      },
      "execution_count": 127,
      "outputs": []
    },
    {
      "cell_type": "code",
      "source": [
        "array1 = np.array([[1, 2], [3, 4]])\n",
        "array2 = np.array([[5, 6], [7, 8]])\n",
        "\n",
        "concatenate_arrays(array1, array2, axis = 0)"
      ],
      "metadata": {
        "colab": {
          "base_uri": "https://localhost:8080/"
        },
        "id": "kb56lZIMk-cV",
        "outputId": "788f17c3-7f9a-46c0-9ce8-ab7a4ff2e24a"
      },
      "execution_count": 130,
      "outputs": [
        {
          "output_type": "execute_result",
          "data": {
            "text/plain": [
              "array([[1, 2],\n",
              "       [3, 4],\n",
              "       [5, 6],\n",
              "       [7, 8]])"
            ]
          },
          "metadata": {},
          "execution_count": 130
        }
      ]
    },
    {
      "cell_type": "code",
      "source": [
        "concatenates_arrays(array1, array2, axis = 1)"
      ],
      "metadata": {
        "colab": {
          "base_uri": "https://localhost:8080/"
        },
        "id": "MnCbOucJlKwb",
        "outputId": "d996aaaa-ed3c-4f6d-ddcd-8350158c3564"
      },
      "execution_count": 131,
      "outputs": [
        {
          "output_type": "execute_result",
          "data": {
            "text/plain": [
              "array([[1, 2, 5, 6],\n",
              "       [3, 4, 7, 8]])"
            ]
          },
          "metadata": {},
          "execution_count": 131
        }
      ]
    },
    {
      "cell_type": "code",
      "source": [
        "# Q49) Create a function that splits an array into multiple sub-arrays along a specified axis.\n",
        "\n",
        "def split_array(array, indices, axis):\n",
        "    return np.split(array, indices, axis)"
      ],
      "metadata": {
        "id": "JAa39oC9lHKI"
      },
      "execution_count": 132,
      "outputs": []
    },
    {
      "cell_type": "code",
      "source": [
        "original_array = np.array([[1, 2, 3], [4, 5, 6], [7, 8, 9]])\n",
        "\n",
        "split_array(original_array, [1, 2], axis=0)"
      ],
      "metadata": {
        "colab": {
          "base_uri": "https://localhost:8080/"
        },
        "id": "NgGeU71HlcMS",
        "outputId": "2c9c6785-a2a5-4b23-8c92-b2681c576f0d"
      },
      "execution_count": 134,
      "outputs": [
        {
          "output_type": "execute_result",
          "data": {
            "text/plain": [
              "[array([[1, 2, 3]]), array([[4, 5, 6]]), array([[7, 8, 9]])]"
            ]
          },
          "metadata": {},
          "execution_count": 134
        }
      ]
    },
    {
      "cell_type": "code",
      "source": [
        "# Q50) Write a function that inserts and then deletes elements from a given array at specified indices.\n",
        "\n",
        "original_array = np.array([1, 2, 3, 4, 5])\n",
        "indices_to_insert = [2, 4]\n",
        "values_to_insert = [10, 11]\n",
        "indices_to_delete = [1, 3]\n",
        "\n",
        "def insert_and_delete(array, indices_to_insert, values_to_insert, indices_to_delete):\n",
        "    array = np.insert(array, indices_to_insert, values_to_insert)\n",
        "    array = np.delete(array, indices_to_delete)\n",
        "    return array\n"
      ],
      "metadata": {
        "id": "bUaTcahZlhpT"
      },
      "execution_count": 135,
      "outputs": []
    },
    {
      "cell_type": "code",
      "source": [
        "# Q51) Create a NumPy array `arr1` with random integers and another array `arr2` with integers from 1 to 10. Perform element-wise addition between `arr1` and `arr2'\n",
        "\n",
        "arr1 = np.random.randint(1, 100, 10)\n",
        "arr2 = np.arange(1, 11)\n",
        "\n",
        "arr1 + arr2"
      ],
      "metadata": {
        "colab": {
          "base_uri": "https://localhost:8080/"
        },
        "id": "BfZ-btUal-n8",
        "outputId": "1fbc1d93-6f9b-4324-c0f3-f48fd3543a2f"
      },
      "execution_count": 136,
      "outputs": [
        {
          "output_type": "execute_result",
          "data": {
            "text/plain": [
              "array([93, 80, 36, 19, 87, 94, 11, 58, 31, 99])"
            ]
          },
          "metadata": {},
          "execution_count": 136
        }
      ]
    },
    {
      "cell_type": "code",
      "source": [
        "# Q52) Generate a NumPy array `arr1` with sequential integers from 10 to 1 and another array `arr2` with integers from 1 to 10. Subtract `arr2` from `arr1` element-wise.\n",
        "\n",
        "arr1 = np.arange(10,1,-1)\n",
        "arr2 = np.arange(1,10)\n",
        "\n",
        "arr1 - arr2"
      ],
      "metadata": {
        "colab": {
          "base_uri": "https://localhost:8080/"
        },
        "id": "vRWRYcC1mQDd",
        "outputId": "3f096975-cb09-4c4e-dbd2-25b44b97801f"
      },
      "execution_count": 142,
      "outputs": [
        {
          "output_type": "execute_result",
          "data": {
            "text/plain": [
              "array([ 9,  7,  5,  3,  1, -1, -3, -5, -7])"
            ]
          },
          "metadata": {},
          "execution_count": 142
        }
      ]
    },
    {
      "cell_type": "code",
      "source": [
        "# Q53) Create a NumPy array `arr1` with random integers and another array `arr2` with integers from 1 to 5. Perform element-wise multiplication between `arr1` and `arr2`.\n",
        "\n",
        "arr1 = np.random.randint(1, 100, 5)\n",
        "arr2 = np.arange(1, 6)\n",
        "\n",
        "arr1 * arr2"
      ],
      "metadata": {
        "colab": {
          "base_uri": "https://localhost:8080/"
        },
        "id": "WmlNK_94mbsT",
        "outputId": "a5b94774-c8dd-4c4d-daba-59985db14fbd"
      },
      "execution_count": 144,
      "outputs": [
        {
          "output_type": "execute_result",
          "data": {
            "text/plain": [
              "array([ 66, 140,  93,   8, 235])"
            ]
          },
          "metadata": {},
          "execution_count": 144
        }
      ]
    },
    {
      "cell_type": "code",
      "source": [
        "# Q54) Generate a NumPy array `arr1` with even integers from 2 to 10 and another array `arr2` with integers from 1 to 5. Perform element-wise division of `arr1` by `arr2`\n",
        "\n",
        "arr1 = np.arange(2, 11, 2)\n",
        "arr2 = np.arange(1, 6)\n",
        "\n",
        "arr1 / arr2"
      ],
      "metadata": {
        "colab": {
          "base_uri": "https://localhost:8080/"
        },
        "id": "i5sCtc1GnSWY",
        "outputId": "91b82919-7a59-42b0-bff8-19737a0e8f40"
      },
      "execution_count": 4,
      "outputs": [
        {
          "output_type": "execute_result",
          "data": {
            "text/plain": [
              "array([2., 2., 2., 2., 2.])"
            ]
          },
          "metadata": {},
          "execution_count": 4
        }
      ]
    },
    {
      "cell_type": "code",
      "source": [
        "# Q55) Create a NumPy array `arr1` with integers from 1 to 5 and another array `arr2` with the same numbers reversed. Calculate the exponentiation of `arr1` raised to the power of `arr2` element-wise.\n",
        "\n",
        "arr1 = np.arange(1, 6)\n",
        "arr2 = np.flip(arr1)\n",
        "\n",
        "arr1 ** arr2"
      ],
      "metadata": {
        "colab": {
          "base_uri": "https://localhost:8080/"
        },
        "id": "nc4L_uQByxR_",
        "outputId": "ab809ae1-a833-499b-9ac7-eda30ddeb1a3"
      },
      "execution_count": 7,
      "outputs": [
        {
          "output_type": "execute_result",
          "data": {
            "text/plain": [
              "array([ 1, 16, 27, 16,  5])"
            ]
          },
          "metadata": {},
          "execution_count": 7
        }
      ]
    },
    {
      "cell_type": "code",
      "source": [
        "# Q56) Write a function that counts the occurrences of a specific substring within a NumPy array of strings.\n",
        "\n",
        "arr = np.array(['hello', 'world', 'hello', 'numpy', 'hello'])\n",
        "\n",
        "def count_substring(arr, substring):\n",
        "    count = 0\n",
        "    for string in arr:\n",
        "        if substring in string:\n",
        "            count += 1\n",
        "    return count"
      ],
      "metadata": {
        "id": "SHSuyF-4zhOZ"
      },
      "execution_count": 10,
      "outputs": []
    },
    {
      "cell_type": "code",
      "source": [
        "count_substring(arr, 'hello')"
      ],
      "metadata": {
        "colab": {
          "base_uri": "https://localhost:8080/"
        },
        "id": "epRNG3kk0u_y",
        "outputId": "639485cc-0304-45b6-c593-de8626a8a3dd"
      },
      "execution_count": 11,
      "outputs": [
        {
          "output_type": "execute_result",
          "data": {
            "text/plain": [
              "3"
            ]
          },
          "metadata": {},
          "execution_count": 11
        }
      ]
    },
    {
      "cell_type": "code",
      "source": [
        "# Q57) Write a function that extracts uppercase characters from a NumPy array of strings.\n",
        "\n",
        "arr = np.array(['Hello', 'World', 'OpenAI', 'GPT'])\n",
        "\n",
        "def extract_uppercase(arr):\n",
        "    uppercase_chars = []\n",
        "    for string in arr:\n",
        "        for char in string:\n",
        "            if char.isupper():\n",
        "                uppercase_chars.append(char)\n",
        "    return uppercase_chars"
      ],
      "metadata": {
        "id": "ovAgp0pD0Dmb"
      },
      "execution_count": 12,
      "outputs": []
    },
    {
      "cell_type": "code",
      "source": [
        "extract_uppercase(arr)"
      ],
      "metadata": {
        "colab": {
          "base_uri": "https://localhost:8080/"
        },
        "id": "Fhg4knLn1RbB",
        "outputId": "0aad454a-e8ef-4760-a657-485e728a6c21"
      },
      "execution_count": 13,
      "outputs": [
        {
          "output_type": "execute_result",
          "data": {
            "text/plain": [
              "['H', 'W', 'O', 'A', 'I', 'G', 'P', 'T']"
            ]
          },
          "metadata": {},
          "execution_count": 13
        }
      ]
    },
    {
      "cell_type": "code",
      "source": [
        "# Q58) Write a function that replaces occurrences of a substring in a NumPy array of strings with a new string.\n"
      ],
      "metadata": {
        "id": "73GOnDPs1dP0"
      },
      "execution_count": 14,
      "outputs": []
    },
    {
      "cell_type": "code",
      "source": [
        "# Q59)  Write a function that concatenates strings in a NumPy array element-wise.\n",
        "\n",
        "arr1 = np.array(['Hello', 'World'])\n",
        "arr2 = np.array(['Open', 'AI'])\n",
        "\n",
        "def concatenate_strings(arr1, arr2):\n",
        "    return np.char.add(arr1, arr2)\n",
        ""
      ],
      "metadata": {
        "id": "H1fOd--813bu"
      },
      "execution_count": 20,
      "outputs": []
    },
    {
      "cell_type": "code",
      "source": [
        "concatenate_strings(arr1, arr2)"
      ],
      "metadata": {
        "colab": {
          "base_uri": "https://localhost:8080/"
        },
        "id": "8vFB1xbw2Oa8",
        "outputId": "cb24f8a9-e85e-494c-84ef-1bb8ea1fd17f"
      },
      "execution_count": 21,
      "outputs": [
        {
          "output_type": "execute_result",
          "data": {
            "text/plain": [
              "array(['HelloOpen', 'WorldAI'], dtype='<U9')"
            ]
          },
          "metadata": {},
          "execution_count": 21
        }
      ]
    },
    {
      "cell_type": "code",
      "source": [
        "# Q60) Write a function that finds the length of the longest string in a NumPy array.\n",
        "\n",
        "arr = np.array(['apple', 'banana', 'grape', 'pineapple'])\n",
        "\n",
        "def longest_element(arr):\n",
        "    for element in arr:\n",
        "        longest = ''\n",
        "        if len(element) > len(longest):\n",
        "           longest = element\n",
        "    return longest\n"
      ],
      "metadata": {
        "id": "ebAy3ClR2Sbe"
      },
      "execution_count": 24,
      "outputs": []
    },
    {
      "cell_type": "code",
      "source": [
        "longest_element(arr)"
      ],
      "metadata": {
        "colab": {
          "base_uri": "https://localhost:8080/",
          "height": 36
        },
        "id": "AsM-MwcO2tYV",
        "outputId": "64c838ac-301e-4590-e49f-80980ba3f6cd"
      },
      "execution_count": 25,
      "outputs": [
        {
          "output_type": "execute_result",
          "data": {
            "text/plain": [
              "'pineapple'"
            ],
            "application/vnd.google.colaboratory.intrinsic+json": {
              "type": "string"
            }
          },
          "metadata": {},
          "execution_count": 25
        }
      ]
    },
    {
      "cell_type": "code",
      "source": [
        "# Q61) Create a dataset of 100 random integers between 1 and 1000. Compute the mean, median, variance, and standard deviation of the dataset using NumPy's functions.\n",
        "\n",
        "arr = np.random.randint(1, 1001, 100)\n",
        "print(arr.mean())\n",
        "print(np.median(arr))\n",
        "print(arr.var())\n",
        "print(arr.std())"
      ],
      "metadata": {
        "colab": {
          "base_uri": "https://localhost:8080/"
        },
        "id": "_jhoNHHx3UIv",
        "outputId": "ebdf7bf8-31ce-4718-c9d4-be9162f3dd6f"
      },
      "execution_count": 32,
      "outputs": [
        {
          "output_type": "stream",
          "name": "stdout",
          "text": [
            "482.38\n",
            "475.0\n",
            "80468.85560000001\n",
            "283.6703290793734\n"
          ]
        }
      ]
    },
    {
      "cell_type": "code",
      "source": [
        "# Q62) Generate an array of 50 random numbers between 1 and 100. Find the 25th and 75th percentiles of the dataset.\n",
        "\n",
        "np.random.seed(0)\n",
        "arr = np.random.randint(1, 101, 50)\n",
        "print(np.percentile(arr, 25))\n",
        "print(np.percentile(arr, 75))"
      ],
      "metadata": {
        "colab": {
          "base_uri": "https://localhost:8080/"
        },
        "id": "4Dt2ko5c3kvH",
        "outputId": "659e46ef-56d2-40c1-ab96-de50f3637daf"
      },
      "execution_count": 33,
      "outputs": [
        {
          "output_type": "stream",
          "name": "stdout",
          "text": [
            "32.25\n",
            "77.25\n"
          ]
        }
      ]
    },
    {
      "cell_type": "code",
      "source": [
        "# Q63) Create two arrays representing two sets of variables. Compute the correlation coefficient between these arrays using NumPy's `corrcoef` function.\n",
        "\n",
        "arr1 = np.random.randint(1, 10, 5)\n",
        "arr2 = np.random.randint(1, 10, 5)\n",
        "\n",
        "np.corrcoef(arr1, arr2)"
      ],
      "metadata": {
        "colab": {
          "base_uri": "https://localhost:8080/"
        },
        "id": "VJzfug8L4tPU",
        "outputId": "e17a1604-b511-4a43-c2e5-7449f486e7d8"
      },
      "execution_count": 34,
      "outputs": [
        {
          "output_type": "execute_result",
          "data": {
            "text/plain": [
              "array([[ 1.        , -0.49507115],\n",
              "       [-0.49507115,  1.        ]])"
            ]
          },
          "metadata": {},
          "execution_count": 34
        }
      ]
    },
    {
      "cell_type": "code",
      "source": [
        "# Q64) Create two matrices and perform matrix multiplication using NumPy's `dot` function.\n",
        "\n",
        "arr1 = np.random.randint(1, 10, (2, 3))\n",
        "arr2 = np.random.randint(1, 10, (3, 2))\n",
        "\n",
        "np.dot(arr1, arr2)"
      ],
      "metadata": {
        "colab": {
          "base_uri": "https://localhost:8080/"
        },
        "id": "q4pNAyvH5Ati",
        "outputId": "8ff21b12-0f77-43fc-b9e9-0feb06ffdead"
      },
      "execution_count": 37,
      "outputs": [
        {
          "output_type": "execute_result",
          "data": {
            "text/plain": [
              "array([[69, 41],\n",
              "       [92, 54]])"
            ]
          },
          "metadata": {},
          "execution_count": 37
        }
      ]
    },
    {
      "cell_type": "code",
      "source": [
        "# Q65) Create an array of 50 integers between 10 and 1000. Calculate the 10th, 50th (median), and 90th percentiles along with the first and third quartiles.\n",
        "\n",
        "arr = np.random.randint(10, 1001, 50)\n",
        "\n",
        "print(np.percentile(arr, 10))\n",
        "print(np.percentile(arr, 50))\n",
        "print(np.percentile(arr, 90))\n",
        "print(np.percentile(arr, 25))\n",
        "print(np.percentile(arr, 75))"
      ],
      "metadata": {
        "colab": {
          "base_uri": "https://localhost:8080/"
        },
        "id": "trp4RUJF5XVz",
        "outputId": "b5142704-ef55-4bef-a0ac-fbd9c6144d97"
      },
      "execution_count": 42,
      "outputs": [
        {
          "output_type": "stream",
          "name": "stdout",
          "text": [
            "116.60000000000002\n",
            "516.5\n",
            "781.8\n",
            "223.0\n",
            "717.0\n"
          ]
        }
      ]
    },
    {
      "cell_type": "code",
      "source": [
        "# Q66)  Create a NumPy array of integers and find the index of a specific element.\n",
        "\n",
        "np.random.seed(0)\n",
        "arr = np.random.randint(1, 101, 10)\n",
        "\n",
        "print(arr)\n",
        "print(\"Index at: \", np.where(arr==65))"
      ],
      "metadata": {
        "colab": {
          "base_uri": "https://localhost:8080/"
        },
        "id": "Z2lxelHd53Z5",
        "outputId": "ff2c7f84-c234-4cd4-9911-d1fbe467754b"
      },
      "execution_count": 53,
      "outputs": [
        {
          "output_type": "stream",
          "name": "stdout",
          "text": [
            "[45 48 65 68 68 10 84 22 37 88]\n",
            "Index at:  (array([2]),)\n"
          ]
        }
      ]
    },
    {
      "cell_type": "code",
      "source": [
        "# Q67)  Generate a random NumPy array and sort it in ascending order.\n",
        "\n",
        "arr = np.random.randint(1, 101, 100)\n",
        "\n",
        "np.sort(arr)"
      ],
      "metadata": {
        "colab": {
          "base_uri": "https://localhost:8080/"
        },
        "id": "v6eIt_6j54KV",
        "outputId": "823fb7c7-492f-465c-b0ec-4926f5858302"
      },
      "execution_count": 56,
      "outputs": [
        {
          "output_type": "execute_result",
          "data": {
            "text/plain": [
              "array([  1,   1,   3,   3,   3,   4,   4,   5,  11,  11,  12,  12,  14,\n",
              "        14,  15,  15,  17,  19,  20,  20,  21,  22,  22,  24,  25,  25,\n",
              "        25,  26,  27,  28,  30,  31,  32,  33,  33,  34,  35,  36,  37,\n",
              "        37,  39,  41,  41,  42,  42,  43,  43,  44,  44,  47,  47,  49,\n",
              "        51,  52,  53,  55,  55,  57,  57,  57,  59,  59,  60,  61,  61,\n",
              "        62,  62,  63,  66,  67,  68,  68,  68,  71,  72,  73,  73,  74,\n",
              "        76,  78,  78,  78,  80,  81,  81,  82,  83,  84,  86,  87,  87,\n",
              "        94,  95,  95,  96,  97,  99,  99,  99, 100])"
            ]
          },
          "metadata": {},
          "execution_count": 56
        }
      ]
    },
    {
      "cell_type": "code",
      "source": [
        "# Q68)  Filter elements >20  in the given NumPy array.\n",
        "\n",
        "arr = np.array([12, 25, 6, 42, 8, 30])\n",
        "\n",
        "arr[arr > 20]"
      ],
      "metadata": {
        "colab": {
          "base_uri": "https://localhost:8080/"
        },
        "id": "fsgBJK1q7vBC",
        "outputId": "d2b1b07f-d2d0-40e1-9725-3c05c4c1c4d6"
      },
      "execution_count": 57,
      "outputs": [
        {
          "output_type": "execute_result",
          "data": {
            "text/plain": [
              "array([25, 42, 30])"
            ]
          },
          "metadata": {},
          "execution_count": 57
        }
      ]
    },
    {
      "cell_type": "code",
      "source": [
        "# Q69) Filter elements which are divisible by 3 from a given NumPy array.\n",
        "\n",
        "arr = np.array([1, 5, 8, 12, 15])\n",
        "arr[arr%3 == 0 ]"
      ],
      "metadata": {
        "colab": {
          "base_uri": "https://localhost:8080/"
        },
        "id": "34WVHWcj8HfE",
        "outputId": "5d6b8183-aa80-457f-f5d3-df2ec1233dcf"
      },
      "execution_count": 58,
      "outputs": [
        {
          "output_type": "execute_result",
          "data": {
            "text/plain": [
              "array([12, 15])"
            ]
          },
          "metadata": {},
          "execution_count": 58
        }
      ]
    },
    {
      "cell_type": "code",
      "source": [
        "# Q70)  Filter elements which are ≥ 20 and ≤ 40 from a given NumPy array.\n",
        "\n",
        "arr = np.array([10, 20, 30, 40, 50])\n",
        "arr[(arr >= 20) & (arr <= 40)]"
      ],
      "metadata": {
        "colab": {
          "base_uri": "https://localhost:8080/"
        },
        "id": "bPfOnZ2Q8VUm",
        "outputId": "103887f8-06da-4ae2-b56f-3ad332af3b70"
      },
      "execution_count": 61,
      "outputs": [
        {
          "output_type": "execute_result",
          "data": {
            "text/plain": [
              "array([20, 30, 40])"
            ]
          },
          "metadata": {},
          "execution_count": 61
        }
      ]
    },
    {
      "cell_type": "code",
      "source": [
        "# Q71) For the given NumPy array, check its byte order using the `dtype` attribute byteorder.\n",
        "\n",
        "arr = np.array([1, 2, 3])\n",
        "arr.dtype.byteorder"
      ],
      "metadata": {
        "colab": {
          "base_uri": "https://localhost:8080/",
          "height": 36
        },
        "id": "XHYdfhZI8xGa",
        "outputId": "1c0ef71a-de4c-4372-def7-a6773f0c600c"
      },
      "execution_count": 62,
      "outputs": [
        {
          "output_type": "execute_result",
          "data": {
            "text/plain": [
              "'='"
            ],
            "application/vnd.google.colaboratory.intrinsic+json": {
              "type": "string"
            }
          },
          "metadata": {},
          "execution_count": 62
        }
      ]
    },
    {
      "cell_type": "code",
      "source": [
        "# Q72) For the given NumPy array, perform byte swapping in place using `byteswap()`.\n",
        "\n",
        "arr = np.array([1, 2, 3], dtype=np.int32)\n",
        "\n",
        "arr.byteswap(True)"
      ],
      "metadata": {
        "colab": {
          "base_uri": "https://localhost:8080/"
        },
        "id": "k3WVvqhS9L3U",
        "outputId": "27f1b0a8-f39a-46fa-fc30-d0de27ab7047"
      },
      "execution_count": 3,
      "outputs": [
        {
          "output_type": "execute_result",
          "data": {
            "text/plain": [
              "array([16777216, 33554432, 50331648], dtype=int32)"
            ]
          },
          "metadata": {},
          "execution_count": 3
        }
      ]
    },
    {
      "cell_type": "code",
      "source": [
        "# Q73) For the given NumPy array, swap its byte order without modifying the original array using `newbyteorder()`.\n",
        "\n",
        "arr = np.array([1, 2, 3], dtype=np.int32)\n",
        "\n",
        "arr.newbyteorder()"
      ],
      "metadata": {
        "colab": {
          "base_uri": "https://localhost:8080/"
        },
        "id": "ddJkqh3D9ufC",
        "outputId": "00e04acb-a21a-44e0-e1a3-62ac12f2d1f5"
      },
      "execution_count": 4,
      "outputs": [
        {
          "output_type": "execute_result",
          "data": {
            "text/plain": [
              "array([16777216, 33554432, 50331648], dtype='>i4')"
            ]
          },
          "metadata": {},
          "execution_count": 4
        }
      ]
    },
    {
      "cell_type": "code",
      "source": [
        "# Q74) For the given NumPy array and swap its byte order conditionally based on system endianness using `newbyteorder()`.\n",
        "\n",
        "arr = np.array([1, 2, 3], dtype=np.int32)\n",
        "\n",
        "if arr.dtype.byteorder == '=':  # Native byte order\n",
        "    swapped_arr = arr.newbyteorder().byteswap()\n",
        "\n",
        "print(swapped_arr)"
      ],
      "metadata": {
        "colab": {
          "base_uri": "https://localhost:8080/"
        },
        "id": "QSNgLMK1qz9F",
        "outputId": "2c2a7eb6-842e-4bc3-9bcc-ef940c0a2fd9"
      },
      "execution_count": 7,
      "outputs": [
        {
          "output_type": "stream",
          "name": "stdout",
          "text": [
            "[1 2 3]\n"
          ]
        }
      ]
    },
    {
      "cell_type": "code",
      "source": [
        "# Q75) For the given NumPy array, check if byte swapping is necessary for the current system using `dtype` attribute `byteorder`.\n",
        "\n",
        "arr = np.array([1, 2, 3], dtype=np.int32)\n",
        "\n",
        "if arr.dtype.byteorder == '=':  # Native byte order\n",
        "    swapped_arr = arr.newbyteorder().byteswap()"
      ],
      "metadata": {
        "id": "WItZx4u2q_gB"
      },
      "execution_count": 8,
      "outputs": []
    },
    {
      "cell_type": "code",
      "source": [
        "# Q76) Create a NumPy array `arr1` with values from 1 to 10. Create a copy of `arr1` named `copy_arr` and modify an element in `copy_arr`. Check if modifying `copy_arr` affects `arr1`.\n",
        "\n",
        "arr1 = np.arange(1, 11)\n",
        "copy_arr = arr1.copy()\n",
        "copy_arr[0] = 100\n",
        "\n",
        "print(arr1)\n",
        "print(copy_arr)"
      ],
      "metadata": {
        "colab": {
          "base_uri": "https://localhost:8080/"
        },
        "id": "Ep1cTT30rmZo",
        "outputId": "36bac49d-1aff-4e6f-b6be-8fcf031f9643"
      },
      "execution_count": 9,
      "outputs": [
        {
          "output_type": "stream",
          "name": "stdout",
          "text": [
            "[ 1  2  3  4  5  6  7  8  9 10]\n",
            "[100   2   3   4   5   6   7   8   9  10]\n"
          ]
        }
      ]
    },
    {
      "cell_type": "code",
      "source": [
        "# Q77) Create a 2D NumPy array `matrix` of shape (3, 3) with random integers. Extract a slice `view_slice` from the matrix. Modify an element in `view_slice` and observe if it changes the original `matrix`.\n",
        "\n",
        "np.random.seed(0)\n",
        "arr = np.random.randint(1, 101, (3, 3))\n",
        "matrix = np.asmatrix(arr)\n",
        "view_slice = matrix[1:3, 1:3]\n",
        "\n",
        "print(\"Original Matrix : \\n\", matrix)\n",
        "print(\"Slice of Matrix : \\n\" , view_slice)\n",
        "\n",
        "view_slice[0, 0]= 100\n",
        "\n",
        "print(\"Modified Slice : \\n\", view_slice)\n",
        "print(\"Original Matrix : \\n\", matrix)"
      ],
      "metadata": {
        "colab": {
          "base_uri": "https://localhost:8080/"
        },
        "id": "dmH8wqPkr-ls",
        "outputId": "ae564ff0-47bd-49e1-e484-8889d957cfeb"
      },
      "execution_count": 28,
      "outputs": [
        {
          "output_type": "stream",
          "name": "stdout",
          "text": [
            "Original Matrix : \n",
            " [[45 48 65]\n",
            " [68 68 10]\n",
            " [84 22 37]]\n",
            "Slice of Matrix : \n",
            " [[68 10]\n",
            " [22 37]]\n",
            "Modified Slice : \n",
            " [[100  10]\n",
            " [ 22  37]]\n",
            "Original Matrix : \n",
            " [[ 45  48  65]\n",
            " [ 68 100  10]\n",
            " [ 84  22  37]]\n"
          ]
        }
      ]
    },
    {
      "cell_type": "code",
      "source": [
        "# Q78) Create a NumPy array `array_a` of shape (4, 3) with sequential integers from 1 to 12. Extract a slice `view_b` from `array_a` and broadcast the addition of 5 to view_b. Check if it alters the original `array_a`.\n",
        "\n",
        "array_a = np.arange(1, 13).reshape(4, 3)\n",
        "view_b = array_a[1:3, 1:3]\n",
        "view_b = view_b + 5\n",
        "print(view_b)\n",
        "print(array_a)"
      ],
      "metadata": {
        "colab": {
          "base_uri": "https://localhost:8080/"
        },
        "id": "jDMoy1_DsRRL",
        "outputId": "f0a7585b-70d1-4b70-9aae-7ac4f2c4c489"
      },
      "execution_count": 38,
      "outputs": [
        {
          "output_type": "stream",
          "name": "stdout",
          "text": [
            "[[10 11]\n",
            " [13 14]]\n",
            "[[ 1  2  3]\n",
            " [ 4  5  6]\n",
            " [ 7  8  9]\n",
            " [10 11 12]]\n"
          ]
        }
      ]
    },
    {
      "cell_type": "code",
      "source": [
        "# Q79) Create a NumPy array `orig_array` of shape (2, 4) with values from 1 to 8. Create a reshaped view `reshaped_view` of shape (4, 2) from orig_array. Modify an element in `reshaped_view` and check if it reflects changes in the original `orig_array`.\n",
        "\n",
        "orig_array = np.arange(1, 9).reshape(2, 4)\n",
        "reshaped_view = orig_array.reshape(4, 2)\n",
        "print(\"Original Array : \\n\", orig_array)\n",
        "print(\"Reshaped Array: \\n\", reshaped_view)\n",
        "\n",
        "reshaped_view[0, 0] = 100\n",
        "print(\"Original Array : \\n\", orig_array)\n",
        "print(\"Reshaped Array: \\n\", reshaped_view)"
      ],
      "metadata": {
        "colab": {
          "base_uri": "https://localhost:8080/"
        },
        "id": "n5ghKJwZvCI8",
        "outputId": "92c1d33a-7edc-4d4f-bf64-8f6e019201e5"
      },
      "execution_count": 43,
      "outputs": [
        {
          "output_type": "stream",
          "name": "stdout",
          "text": [
            "Original Array : \n",
            " [[1 2 3 4]\n",
            " [5 6 7 8]]\n",
            "Reshaped Array: \n",
            " [[1 2]\n",
            " [3 4]\n",
            " [5 6]\n",
            " [7 8]]\n",
            "Original Array : \n",
            " [[100   2   3   4]\n",
            " [  5   6   7   8]]\n",
            "Reshaped Array: \n",
            " [[100   2]\n",
            " [  3   4]\n",
            " [  5   6]\n",
            " [  7   8]]\n"
          ]
        }
      ]
    },
    {
      "cell_type": "code",
      "source": [
        "# Q80)   Create a NumPy array `data` of shape (3, 4) with random integers. Extract a copy `data_copy` of elements greater than 5. Modify an element in `data_copy` and verify if it affects the original `data`.\n",
        "\n",
        "data =  np.random.randint(1, 13, (3, 4))\n",
        "data_copy = data[data > 5]\n",
        "data_copy[0] = 100\n",
        "print(data)\n",
        "print(data_copy)\n",
        "\n"
      ],
      "metadata": {
        "colab": {
          "base_uri": "https://localhost:8080/"
        },
        "id": "KLWM3Z9Vw3X-",
        "outputId": "2ab05f64-0860-48e6-a5b3-a9f4843447bd"
      },
      "execution_count": 50,
      "outputs": [
        {
          "output_type": "stream",
          "name": "stdout",
          "text": [
            "[[ 7  8 12  3]\n",
            " [12  1  4  6]\n",
            " [10 11  5 12]]\n",
            "[100   8  12  12   6  10  11  12]\n"
          ]
        }
      ]
    },
    {
      "cell_type": "code",
      "source": [
        "# Q81)  Create two matrices A and B of identical shape containing integers and perform addition and subtraction operations between them.\n",
        "\n",
        "A = np.random.randint(1, 10, (2, 2))\n",
        "A = np.asmatrix(A)\n",
        "B = np.random.randint(1, 10, (2, 2))\n",
        "B = np.asmatrix(B)\n",
        "\n",
        "print(A + B)\n",
        "print(A - B)"
      ],
      "metadata": {
        "colab": {
          "base_uri": "https://localhost:8080/"
        },
        "id": "EdhGBXcvx2j8",
        "outputId": "ae8308f0-c537-4244-cb63-72751826ebc4"
      },
      "execution_count": 51,
      "outputs": [
        {
          "output_type": "stream",
          "name": "stdout",
          "text": [
            "[[ 9 12]\n",
            " [10 14]]\n",
            "[[ 1  2]\n",
            " [ 0 -4]]\n"
          ]
        }
      ]
    },
    {
      "cell_type": "code",
      "source": [
        "# Q82) Generate two matrices `C` (3x2) and `D` (2x4) and perform matrix multiplication.\n",
        "\n",
        "C = np.asmatrix(np.random.randint(1, 10, (3, 2)))\n",
        "D = np.asmatrix(np.random.randint(1, 10, (2, 4)))\n",
        "\n",
        "print(C @ D)\n"
      ],
      "metadata": {
        "colab": {
          "base_uri": "https://localhost:8080/"
        },
        "id": "tuT0yVluy3Yh",
        "outputId": "378afa30-7e07-4f77-c6ba-e6346e66b9fe"
      },
      "execution_count": 53,
      "outputs": [
        {
          "output_type": "stream",
          "name": "stdout",
          "text": [
            "[[10 30 28 12]\n",
            " [ 9 16 23 13]\n",
            " [13 22 33 19]]\n"
          ]
        }
      ]
    },
    {
      "cell_type": "code",
      "source": [
        "# Q83) Create a matrix `E` and find its transpose.\n",
        "\n",
        "E = np.asmatrix(np.random.randint(1, 10, (4, 2)))\n",
        "print(\"Original Matrix : \\n\" , E)\n",
        "print(\"Transpose Matrix : \\n\", E.T)"
      ],
      "metadata": {
        "colab": {
          "base_uri": "https://localhost:8080/"
        },
        "id": "7vyDQS0ey_pn",
        "outputId": "3219f7d0-66a4-48ef-8c5b-be83dcb4d070"
      },
      "execution_count": 56,
      "outputs": [
        {
          "output_type": "stream",
          "name": "stdout",
          "text": [
            "Original Matrix : \n",
            " [[4 3]\n",
            " [4 5]\n",
            " [2 3]\n",
            " [2 5]]\n",
            "Transpose Matrix : \n",
            " [[4 4 2 2]\n",
            " [3 5 3 5]]\n"
          ]
        }
      ]
    },
    {
      "cell_type": "code",
      "source": [
        "# Q84) Generate a square matrix `F` and compute its determinant.\n",
        "\n",
        "F = np.asmatrix(np.random.randint(1, 10, (3, 3)))\n",
        "print(np.linalg.det(F))"
      ],
      "metadata": {
        "colab": {
          "base_uri": "https://localhost:8080/"
        },
        "id": "ts7h7xjSzhfK",
        "outputId": "2148dece-1d1f-4fd1-c706-0131d7c0d982"
      },
      "execution_count": 59,
      "outputs": [
        {
          "output_type": "stream",
          "name": "stdout",
          "text": [
            "-27.0\n"
          ]
        }
      ]
    },
    {
      "cell_type": "code",
      "source": [
        "# Q85) Create a square matrix `G` and find its inverse.\n",
        "\n",
        "G = np.asmatrix(np.random.randint(1, 10, (3, 3)))\n",
        "print(np.linalg.inv(G))"
      ],
      "metadata": {
        "colab": {
          "base_uri": "https://localhost:8080/"
        },
        "id": "_9g9EwE2z-vz",
        "outputId": "76075453-a405-46eb-8eb9-3a0796b4c81e"
      },
      "execution_count": 60,
      "outputs": [
        {
          "output_type": "stream",
          "name": "stdout",
          "text": [
            "[[-0.04895105 -0.02097902  0.12587413]\n",
            " [-0.02564103  0.17948718 -0.07692308]\n",
            " [ 0.14219114 -0.17715618  0.06293706]]\n"
          ]
        }
      ]
    }
  ]
}